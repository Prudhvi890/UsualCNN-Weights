{
 "cells": [
  {
   "cell_type": "markdown",
   "id": "ad82f056-fe64-4f81-b74e-49329905b97e",
   "metadata": {},
   "source": [
    "# 1. Build your own convolutional neural network using pytorch"
   ]
  },
  {
   "cell_type": "code",
   "execution_count": 12,
   "id": "a65e4fd0-cd18-4d1e-b587-a93506f906b5",
   "metadata": {},
   "outputs": [
    {
     "name": "stdout",
     "output_type": "stream",
     "text": [
      "UsualCNN(\n",
      "  (conv1): Conv2d(3, 16, kernel_size=(3, 3), stride=(1, 1), padding=(1, 1))\n",
      "  (conv2): Conv2d(16, 32, kernel_size=(3, 3), stride=(1, 1), padding=(1, 1))\n",
      "  (conv3): Conv2d(32, 64, kernel_size=(3, 3), stride=(1, 1), padding=(1, 1))\n",
      "  (conv4): Conv2d(64, 128, kernel_size=(3, 3), stride=(1, 1), padding=(1, 1))\n",
      "  (conv5): Conv2d(128, 256, kernel_size=(3, 3), stride=(1, 1), padding=(1, 1))\n",
      "  (conv6): Conv2d(256, 512, kernel_size=(3, 3), stride=(1, 1), padding=(1, 1))\n",
      "  (conv7): Conv2d(512, 1024, kernel_size=(3, 3), stride=(1, 1), padding=(1, 1))\n",
      "  (pool): MaxPool2d(kernel_size=2, stride=2, padding=0, dilation=1, ceil_mode=False)\n",
      "  (fc1): Linear(in_features=1024, out_features=512, bias=True)\n",
      "  (fc2): Linear(in_features=512, out_features=3, bias=True)\n",
      ")\n"
     ]
    }
   ],
   "source": [
    "import torch\n",
    "import torch.nn as nn\n",
    "import torch.nn.functional as F\n",
    "\n",
    "class UsualCNN(nn.Module):\n",
    "    def __init__(self):\n",
    "        super(UsualCNN, self).__init__()\n",
    "        self.conv1 = nn.Conv2d(in_channels=3, out_channels=16, kernel_size=3, stride=1, padding=1)\n",
    "        self.conv2 = nn.Conv2d(in_channels=16, out_channels=32, kernel_size=3, stride=1, padding=1)\n",
    "        self.conv3 = nn.Conv2d(in_channels=32, out_channels=64, kernel_size=3, stride=1, padding=1)\n",
    "        self.conv4 = nn.Conv2d(in_channels=64, out_channels=128, kernel_size=3, stride=1, padding=1)\n",
    "        self.conv5 = nn.Conv2d(in_channels=128, out_channels=256, kernel_size=3, stride=1, padding=1)\n",
    "        self.conv6 = nn.Conv2d(in_channels=256, out_channels=512, kernel_size=3, stride=1, padding=1)\n",
    "        self.conv7 = nn.Conv2d(in_channels=512, out_channels=1024, kernel_size=3, stride=1, padding=1)\n",
    "        self.pool = nn.MaxPool2d(kernel_size=2, stride=2, padding=0)\n",
    "        self.fc1 = nn.Linear(1024 * 1 * 1, 512) \n",
    "        self.fc2 = nn.Linear(512, 3) \n",
    "\n",
    "    def forward(self, x):\n",
    "        x = self.pool(F.relu(self.conv1(x)))\n",
    "        x = self.pool(F.relu(self.conv2(x)))\n",
    "        x = self.pool(F.relu(self.conv3(x)))\n",
    "        x = self.pool(F.relu(self.conv4(x)))\n",
    "        x = self.pool(F.relu(self.conv5(x)))\n",
    "        x = self.pool(F.relu(self.conv6(x)))\n",
    "        x = self.pool(F.relu(self.conv7(x)))\n",
    "        x = x.view(-1, 1024 * 1 * 1)\n",
    "        x = F.relu(self.fc1(x))\n",
    "        x = self.fc2(x)\n",
    "        return x\n",
    "\n",
    "# Create an instance of the network\n",
    "net = UsualCNN()\n",
    "\n",
    "# Print the network architecture\n",
    "print(net)\n"
   ]
  },
  {
   "cell_type": "markdown",
   "id": "572d9e51-7c67-43c6-be00-265ac66a9700",
   "metadata": {},
   "source": [
    "# 2. Train your model using dog heart dataset (you may need to use  Google Colab (or Kaggle) with GPU to train your code) \n",
    "\n",
    "### (1) use torchvision.datasets.ImageFolder for the training dataset\n",
    "### (2) use custom dataloader for test dataset (return image tensor and file name)"
   ]
  },
  {
   "cell_type": "code",
   "execution_count": 13,
   "id": "62d21e7e-c447-41ae-b38a-b14c65fe9c7e",
   "metadata": {},
   "outputs": [],
   "source": [
    "import torch\n",
    "import torch.optim as optim\n",
    "from torchvision import datasets, transforms, models\n",
    "from torch.utils.data import DataLoader, Dataset\n",
    "from PIL import Image\n",
    "import os\n",
    "\n",
    "# Data transforms\n",
    "train_transforms = transforms.Compose([\n",
    "    transforms.Resize((256, 256)),\n",
    "    transforms.RandomResizedCrop(224),\n",
    "    transforms.RandomHorizontalFlip(),\n",
    "    transforms.ToTensor(),\n",
    "    transforms.Normalize([0.485, 0.456, 0.406], [0.229, 0.224, 0.225])\n",
    "])\n",
    "\n",
    "val_transforms = transforms.Compose([\n",
    "    transforms.Resize((256, 256)),\n",
    "    transforms.CenterCrop(224),\n",
    "    transforms.ToTensor(),\n",
    "    transforms.Normalize([0.485, 0.456, 0.406], [0.229, 0.224, 0.225])\n",
    "])\n",
    "\n",
    "test_transforms = transforms.Compose([\n",
    "    transforms.Resize((256, 256)),\n",
    "    transforms.CenterCrop(224),\n",
    "    transforms.ToTensor(),\n",
    "    transforms.Normalize([0.485, 0.456, 0.406], [0.229, 0.224, 0.225])\n",
    "])\n",
    "\n",
    "# Custom dataset for test images without class folders\n",
    "class CustomTestDataset(Dataset):\n",
    "    def __init__(self, root_dir, transform=None):\n",
    "        self.root_dir = root_dir\n",
    "        self.transform = transform\n",
    "        self.image_paths = [os.path.join(root_dir, fname) for fname in os.listdir(root_dir) if fname.endswith(('jpg', 'png', 'jpeg'))]\n",
    "\n",
    "    def __len__(self):\n",
    "        return len(self.image_paths)\n",
    "\n",
    "    def __getitem__(self, idx):\n",
    "        img_path = self.image_paths[idx]\n",
    "        image = Image.open(img_path).convert(\"RGB\")\n",
    "        if self.transform:\n",
    "            image = self.transform(image)\n",
    "        return image, img_path\n",
    "\n",
    "# Load datasets\n",
    "train_dataset = datasets.ImageFolder('C:/Users/mahar/Downloads/Dog_heart/Dog_heart/Train', transform=train_transforms)\n",
    "val_dataset = datasets.ImageFolder('C:/Users/mahar/Downloads/Dog_heart/Dog_heart/Valid', transform=val_transforms)\n",
    "\n",
    "# Load the test dataset\n",
    "test_dataset = CustomTestDataset(\n",
    "    root_dir='C:/Users/mahar/Downloads/Test/Test',\n",
    "    transform=test_transforms\n",
    ")\n",
    "\n",
    "# Data loaders\n",
    "batch_size = 32\n",
    "train_loader = DataLoader(train_dataset, batch_size=batch_size, shuffle=True)\n",
    "val_loader = DataLoader(val_dataset, batch_size=batch_size, shuffle=False)\n",
    "test_loader = DataLoader(test_dataset, batch_size=batch_size, shuffle=False)"
   ]
  },
  {
   "cell_type": "code",
   "execution_count": 14,
   "id": "a0759f56-7311-4bfa-8649-cb5a56413097",
   "metadata": {},
   "outputs": [],
   "source": [
    "# Set device\n",
    "device = torch.device('cuda' if torch.cuda.is_available() else 'cpu')\n",
    "\n",
    "# Set random seed for reproducibility\n",
    "torch.manual_seed(42)\n",
    "\n",
    "# Initialize the model, loss function, and optimizer\n",
    "model = UsualCNN().to(device)\n",
    "criterion = nn.CrossEntropyLoss()\n",
    "optimizer = optim.Adam(model.parameters(), lr=0.001)"
   ]
  },
  {
   "cell_type": "code",
   "execution_count": 15,
   "id": "bb144408-6259-4a40-9801-ec894edf0db9",
   "metadata": {},
   "outputs": [
    {
     "name": "stdout",
     "output_type": "stream",
     "text": [
      "Epoch [1/45], Train Loss: 1.0137, Val Loss: 1.0029\n",
      "Saving model with validation loss 1.0029\n",
      "Epoch [2/45], Train Loss: 1.0078, Val Loss: 0.9847\n",
      "Saving model with validation loss 0.9847\n",
      "Epoch [3/45], Train Loss: 0.9958, Val Loss: 0.9888\n",
      "Epoch [4/45], Train Loss: 0.9872, Val Loss: 0.9677\n",
      "Saving model with validation loss 0.9677\n",
      "Epoch [5/45], Train Loss: 0.9724, Val Loss: 0.9379\n",
      "Saving model with validation loss 0.9379\n",
      "Epoch [6/45], Train Loss: 0.9385, Val Loss: 1.0712\n",
      "Epoch [7/45], Train Loss: 0.9622, Val Loss: 0.8814\n",
      "Saving model with validation loss 0.8814\n",
      "Epoch [8/45], Train Loss: 0.9343, Val Loss: 0.8053\n",
      "Saving model with validation loss 0.8053\n",
      "Epoch [9/45], Train Loss: 0.8985, Val Loss: 0.8878\n",
      "Epoch [10/45], Train Loss: 0.8946, Val Loss: 0.7427\n",
      "Saving model with validation loss 0.7427\n",
      "Epoch [11/45], Train Loss: 0.8724, Val Loss: 0.7416\n",
      "Saving model with validation loss 0.7416\n",
      "Epoch [12/45], Train Loss: 0.8684, Val Loss: 0.7360\n",
      "Saving model with validation loss 0.7360\n",
      "Epoch [13/45], Train Loss: 0.8407, Val Loss: 0.7769\n",
      "Epoch [14/45], Train Loss: 0.8769, Val Loss: 0.7423\n",
      "Epoch [15/45], Train Loss: 0.8309, Val Loss: 0.7352\n",
      "Saving model with validation loss 0.7352\n",
      "Epoch [16/45], Train Loss: 0.7998, Val Loss: 0.7094\n",
      "Saving model with validation loss 0.7094\n",
      "Epoch [17/45], Train Loss: 0.7964, Val Loss: 0.6706\n",
      "Saving model with validation loss 0.6706\n",
      "Epoch [18/45], Train Loss: 0.8229, Val Loss: 0.6796\n",
      "Epoch [19/45], Train Loss: 0.8087, Val Loss: 0.7062\n",
      "Epoch [20/45], Train Loss: 0.7973, Val Loss: 0.6763\n",
      "Epoch [21/45], Train Loss: 0.7609, Val Loss: 0.6751\n",
      "Epoch [22/45], Train Loss: 0.7976, Val Loss: 0.7064\n",
      "Epoch [23/45], Train Loss: 0.7543, Val Loss: 0.6337\n",
      "Saving model with validation loss 0.6337\n",
      "Epoch [24/45], Train Loss: 0.7496, Val Loss: 0.6628\n",
      "Epoch [25/45], Train Loss: 0.7549, Val Loss: 0.6894\n",
      "Epoch [26/45], Train Loss: 0.7479, Val Loss: 0.6954\n",
      "Epoch [27/45], Train Loss: 0.7311, Val Loss: 0.6432\n",
      "Epoch [28/45], Train Loss: 0.7129, Val Loss: 0.6557\n",
      "Epoch [29/45], Train Loss: 0.7074, Val Loss: 0.7076\n",
      "Epoch [30/45], Train Loss: 0.7254, Val Loss: 0.7035\n",
      "Epoch [31/45], Train Loss: 0.7037, Val Loss: 0.6516\n",
      "Epoch [32/45], Train Loss: 0.7497, Val Loss: 0.6557\n",
      "Epoch [33/45], Train Loss: 0.7110, Val Loss: 0.6676\n",
      "Epoch [34/45], Train Loss: 0.6984, Val Loss: 0.6901\n",
      "Epoch [35/45], Train Loss: 0.7054, Val Loss: 0.6611\n",
      "Epoch [36/45], Train Loss: 0.6874, Val Loss: 0.6274\n",
      "Saving model with validation loss 0.6274\n",
      "Epoch [37/45], Train Loss: 0.6817, Val Loss: 0.6383\n",
      "Epoch [38/45], Train Loss: 0.7002, Val Loss: 0.6414\n",
      "Epoch [39/45], Train Loss: 0.6903, Val Loss: 0.6237\n",
      "Saving model with validation loss 0.6237\n",
      "Epoch [40/45], Train Loss: 0.6850, Val Loss: 0.6759\n",
      "Epoch [41/45], Train Loss: 0.6987, Val Loss: 0.6952\n",
      "Epoch [42/45], Train Loss: 0.6699, Val Loss: 0.6738\n",
      "Epoch [43/45], Train Loss: 0.6737, Val Loss: 0.6825\n",
      "Epoch [44/45], Train Loss: 0.6745, Val Loss: 0.6842\n",
      "Epoch [45/45], Train Loss: 0.6473, Val Loss: 0.6721\n"
     ]
    }
   ],
   "source": [
    "num_epochs = 45\n",
    "best_val_loss = float('inf')\n",
    "\n",
    "for epoch in range(num_epochs):\n",
    "    # Train model\n",
    "    model.train()\n",
    "    running_loss = 0.0\n",
    "    for images, labels in train_loader:\n",
    "        images = images.to(device)\n",
    "        labels = labels.to(device)\n",
    "\n",
    "        outputs = model(images)\n",
    "        loss = criterion(outputs, labels)\n",
    "\n",
    "        optimizer.zero_grad()\n",
    "        loss.backward()\n",
    "        optimizer.step()\n",
    "\n",
    "        running_loss += loss.item() * images.size(0)\n",
    "\n",
    "    epoch_loss = running_loss / len(train_loader.dataset)\n",
    "\n",
    "    # Validation \n",
    "    model.eval()\n",
    "    val_loss = 0.0\n",
    "    with torch.no_grad():\n",
    "        for images, labels in val_loader:\n",
    "            images = images.to(device)\n",
    "            labels = labels.to(device)\n",
    "\n",
    "            outputs = model(images)\n",
    "            loss = criterion(outputs, labels)\n",
    "            val_loss += loss.item() * images.size(0)\n",
    "\n",
    "    val_loss = val_loss / len(val_loader.dataset)\n",
    "    \n",
    "    print(f'Epoch [{epoch + 1}/{num_epochs}], Train Loss: {epoch_loss:.4f}, Val Loss: {val_loss:.4f}')\n",
    "\n",
    "    # Save the model if the validation loss decreased\n",
    "    if val_loss < best_val_loss:\n",
    "        best_val_loss = val_loss\n",
    "        torch.save(model.state_dict(), 'UsualCnn_model.pth')\n",
    "        print(f'Saving model with validation loss {val_loss:.4f}')\n",
    "\n"
   ]
  },
  {
   "cell_type": "markdown",
   "id": "7bab9c27-159c-49c9-93bd-91152bd7152b",
   "metadata": {},
   "source": [
    "# 3. Evaluate your model using the developed software"
   ]
  },
  {
   "cell_type": "code",
   "execution_count": 16,
   "id": "6ee5bf4a-a6b0-49cb-b572-d9f7b960aa41",
   "metadata": {},
   "outputs": [],
   "source": [
    "import pandas as pd\n",
    "\n",
    "model.load_state_dict(torch.load('C:/Users/mahar/UsualCnn_model.pth'))\n",
    "model.eval()\n",
    "\n",
    "test_predictions = []\n",
    "image_paths = []\n",
    "with torch.no_grad():\n",
    "    for images, paths in test_loader:\n",
    "        images = images.to(device)\n",
    "        outputs = model(images)\n",
    "        _, predicted = torch.max(outputs, 1)\n",
    "        test_predictions.extend(predicted.cpu().numpy())\n",
    "        image_paths.extend(paths)\n",
    "\n",
    "# Predictions to save in a CSV file\n",
    "def save_predictions_to_csv(predictions, filenames, filename):\n",
    "    filenames = [os.path.basename(path) for path in filenames]\n",
    "    df = pd.DataFrame(list(zip(filenames, predictions)))\n",
    "    df.to_csv(filename, index=False, header=False)\n",
    "\n",
    "save_predictions_to_csv(test_predictions, image_paths, 'UsualCnn_test_predictions.csv')"
   ]
  },
  {
   "attachments": {
    "6a8f1ab5-5244-44af-ac90-ad64acd8c7e6.png": {
     "image/png": "[encoded data removed]"
    }
   },
   "cell_type": "markdown",
   "id": "532b487b-351a-4bbb-b6b4-0d4e16f432e9",
   "metadata": {},
   "source": [
    "![image.png](attachment:6a8f1ab5-5244-44af-ac90-ad64acd8c7e6.png)"
   ]
  },
  {
   "cell_type": "markdown",
   "id": "ae08c0c1-0af9-4f75-a9a9-783e8a94c87a",
   "metadata": {},
   "source": [
    "# 4. Compare results with [RVT paper](https://www.nature.com/articles/s41598-023-50063-x). Requirement: performance is better than VGG16: 70%"
   ]
  },
  {
   "cell_type": "markdown",
   "id": "24840ff0-8340-4040-aa06-bb312487a8e6",
   "metadata": {},
   "source": [
    "The model was determined to be 70.5% accurate by the results obtained. These are the same performances as those reported in (RVTpaper) where a 70% accuracy is presented and VGG16 model were used. Thus, it can be said that the model performance is equivalent with VGG16 as mentioned in RVT paper."
   ]
  },
  {
   "cell_type": "markdown",
   "id": "cc93859c-b7a9-4313-9ca6-730a3e07c555",
   "metadata": {},
   "source": [
    "# 5. Write a four-page paper report using the shared LaTex template. Upload your paper to ResearchGate or Arxiv, and put your paper link and GitHub weight link here."
   ]
  },
  {
   "cell_type": "markdown",
   "id": "e5fa698b-98b5-40d0-956e-cb10a7242e99",
   "metadata": {},
   "source": [
    "ResearchGate Link: https://www.researchgate.net/publication/382111904_UsualCNN_A_Custom_Convolutional_Neural_Network_for_Image_Classification\n",
    "\n",
    "Github Link: https://github.com/Prudhvi890/UsualCNN-Weights"
   ]
  },
  {
   "cell_type": "markdown",
   "id": "a0f67144-4066-4541-9d7f-5bc6432bdb6b",
   "metadata": {},
   "source": [
    "# 6. Grading rubric\n",
    "\n",
    "(1). Code ------- 20 points (you also need to upload your final model as a pt file)\n",
    "\n",
    "(2). Grammer ---- 20 points\n",
    "\n",
    "(3). Introduction & related work --- 10 points\n",
    "\n",
    "\n",
    "(4). Method  ---- 20 points\n",
    "\n",
    "(5). Results ---- 20 points\n",
    "\n",
    "     > = 70 % -->10 points\n",
    "     < 50 % -->0 points\n",
    "     >= 50 % & < 70% --> 0.5 point/percent\n",
    "     \n",
    "\n",
    "(6). Discussion - 10 points"
   ]
  },
  {
   "cell_type": "code",
   "execution_count": null,
   "id": "a4a53889-e667-426e-a162-e017ca0ae6dd",
   "metadata": {},
   "outputs": [],
   "source": []
  }
 ],
 "metadata": {
  "kernelspec": {
   "display_name": "Python 3 (ipykernel)",
   "language": "python",
   "name": "python3"
  },
  "language_info": {
   "codemirror_mode": {
    "name": "ipython",
    "version": 3
   },
   "file_extension": ".py",
   "mimetype": "text/x-python",
   "name": "python",
   "nbconvert_exporter": "python",
   "pygments_lexer": "ipython3",
   "version": "3.11.7"
  }
 },
 "nbformat": 4,
 "nbformat_minor": 5
}
